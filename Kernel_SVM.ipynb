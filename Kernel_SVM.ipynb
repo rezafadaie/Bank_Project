{
  "nbformat": 4,
  "nbformat_minor": 0,
  "metadata": {
    "colab": {
      "name": "Kernel_SVM.ipynb",
      "provenance": [],
      "collapsed_sections": [],
      "toc_visible": true
    },
    "kernelspec": {
      "name": "python3",
      "display_name": "Python 3"
    },
    "language_info": {
      "name": "python"
    }
  },
  "cells": [
    {
      "cell_type": "markdown",
      "metadata": {
        "id": "hTD4UDwbxr9F"
      },
      "source": [
        "# **Bank Project**"
      ]
    },
    {
      "cell_type": "markdown",
      "metadata": {
        "id": "vevKq1rrx0RE"
      },
      "source": [
        "## **Data Preprocessing**"
      ]
    },
    {
      "cell_type": "markdown",
      "metadata": {
        "id": "2TooHL6wyRo9"
      },
      "source": [
        "###Import Libraries "
      ]
    },
    {
      "cell_type": "code",
      "metadata": {
        "id": "1BXfP9dWxxls"
      },
      "source": [
        "import numpy as np\n",
        "import pandas as pd"
      ],
      "execution_count": 1,
      "outputs": []
    },
    {
      "cell_type": "markdown",
      "metadata": {
        "id": "6zcwybLwykQ9"
      },
      "source": [
        "### Import the Dataset"
      ]
    },
    {
      "cell_type": "code",
      "metadata": {
        "id": "nO420IClyqM0"
      },
      "source": [
        "dataset = pd.read_csv('bank.csv', delimiter = \";\" )\n",
        "x = dataset.iloc[:,:-1].values\n",
        "y = dataset.iloc[:,-1].values"
      ],
      "execution_count": 2,
      "outputs": []
    },
    {
      "cell_type": "code",
      "metadata": {
        "colab": {
          "base_uri": "https://localhost:8080/"
        },
        "id": "U9F50kxpzaWt",
        "outputId": "b763fad2-2ced-45e6-b721-60f40cc3a658"
      },
      "source": [
        "print(x)"
      ],
      "execution_count": 3,
      "outputs": [
        {
          "output_type": "stream",
          "text": [
            "[[30 'unemployed' 'married' ... -1 0 'unknown']\n",
            " [33 'services' 'married' ... 339 4 'failure']\n",
            " [35 'management' 'single' ... 330 1 'failure']\n",
            " ...\n",
            " [57 'technician' 'married' ... -1 0 'unknown']\n",
            " [28 'blue-collar' 'married' ... 211 3 'other']\n",
            " [44 'entrepreneur' 'single' ... 249 7 'other']]\n"
          ],
          "name": "stdout"
        }
      ]
    },
    {
      "cell_type": "code",
      "metadata": {
        "colab": {
          "base_uri": "https://localhost:8080/"
        },
        "id": "lTF3xkIuzlet",
        "outputId": "f311ac3b-8943-4a34-9283-3785b8f5286f"
      },
      "source": [
        "print(y)"
      ],
      "execution_count": 4,
      "outputs": [
        {
          "output_type": "stream",
          "text": [
            "['no' 'no' 'no' ... 'no' 'no' 'no']\n"
          ],
          "name": "stdout"
        }
      ]
    },
    {
      "cell_type": "markdown",
      "metadata": {
        "id": "a4t5v7iz2G4A"
      },
      "source": [
        "### Encoding categorical data"
      ]
    },
    {
      "cell_type": "code",
      "metadata": {
        "id": "am_w7ryN4xoQ"
      },
      "source": [
        "from sklearn.compose import ColumnTransformer\n",
        "from sklearn.preprocessing import OneHotEncoder\n",
        "ct = ColumnTransformer(transformers = [('encoder', OneHotEncoder(), [1,2,3,4,6,7,8,10,15])], remainder = 'passthrough')\n",
        "x = np.array(ct.fit_transform(x))"
      ],
      "execution_count": 5,
      "outputs": []
    },
    {
      "cell_type": "code",
      "metadata": {
        "colab": {
          "base_uri": "https://localhost:8080/"
        },
        "id": "5jR8BnON6uln",
        "outputId": "01b8d240-b6fe-48c1-c8ec-97e66db9dfca"
      },
      "source": [
        "print(x)"
      ],
      "execution_count": 6,
      "outputs": [
        {
          "output_type": "stream",
          "text": [
            "[[0.0 0.0 0.0 ... 1 -1 0]\n",
            " [0.0 0.0 0.0 ... 1 339 4]\n",
            " [0.0 0.0 0.0 ... 1 330 1]\n",
            " ...\n",
            " [0.0 0.0 0.0 ... 11 -1 0]\n",
            " [0.0 1.0 0.0 ... 4 211 3]\n",
            " [0.0 0.0 1.0 ... 2 249 7]]\n"
          ],
          "name": "stdout"
        }
      ]
    },
    {
      "cell_type": "markdown",
      "metadata": {
        "id": "T76QMxEP7UCe"
      },
      "source": [
        "### Encoding the dependent variable"
      ]
    },
    {
      "cell_type": "code",
      "metadata": {
        "id": "O0o0FpBS7aMm"
      },
      "source": [
        "from sklearn.preprocessing import LabelEncoder\n",
        "le = LabelEncoder()\n",
        "y = le.fit_transform(y)"
      ],
      "execution_count": 7,
      "outputs": []
    },
    {
      "cell_type": "code",
      "metadata": {
        "colab": {
          "base_uri": "https://localhost:8080/"
        },
        "id": "5A330u4t8FmI",
        "outputId": "aece72fd-7fdf-4340-a61d-e6c9aabaa86b"
      },
      "source": [
        "print(y)"
      ],
      "execution_count": 8,
      "outputs": [
        {
          "output_type": "stream",
          "text": [
            "[0 0 0 ... 0 0 0]\n"
          ],
          "name": "stdout"
        }
      ]
    },
    {
      "cell_type": "markdown",
      "metadata": {
        "id": "wyoZccITxkgH"
      },
      "source": [
        "### Splitting the dataset into the Training set and Test set"
      ]
    },
    {
      "cell_type": "code",
      "metadata": {
        "id": "yYN02Gj08MhO"
      },
      "source": [
        "from sklearn.model_selection import train_test_split\n",
        "x_train, x_test, y_train, y_test = train_test_split(x,y,test_size = 0.2, random_state = 1)"
      ],
      "execution_count": 9,
      "outputs": []
    },
    {
      "cell_type": "code",
      "metadata": {
        "colab": {
          "base_uri": "https://localhost:8080/"
        },
        "id": "QFsORRPN8yXf",
        "outputId": "800f8401-024d-47e7-d8de-1cff2ea2c07f"
      },
      "source": [
        "print(x_train)"
      ],
      "execution_count": 10,
      "outputs": [
        {
          "output_type": "stream",
          "text": [
            "[[0.0 0.0 0.0 ... 2 -1 0]\n",
            " [0.0 1.0 0.0 ... 6 -1 0]\n",
            " [1.0 0.0 0.0 ... 2 -1 0]\n",
            " ...\n",
            " [0.0 0.0 0.0 ... 2 -1 0]\n",
            " [0.0 1.0 0.0 ... 1 -1 0]\n",
            " [0.0 0.0 0.0 ... 3 -1 0]]\n"
          ],
          "name": "stdout"
        }
      ]
    },
    {
      "cell_type": "code",
      "metadata": {
        "colab": {
          "base_uri": "https://localhost:8080/"
        },
        "id": "8ouMMMIP82kF",
        "outputId": "211854b4-7dd0-46b4-d9e0-73e2f2ba8854"
      },
      "source": [
        "print(x_test)"
      ],
      "execution_count": 11,
      "outputs": [
        {
          "output_type": "stream",
          "text": [
            "[[1.0 0.0 0.0 ... 2 -1 0]\n",
            " [0.0 1.0 0.0 ... 1 -1 0]\n",
            " [0.0 1.0 0.0 ... 1 -1 0]\n",
            " ...\n",
            " [0.0 0.0 0.0 ... 2 -1 0]\n",
            " [0.0 1.0 0.0 ... 8 342 9]\n",
            " [0.0 1.0 0.0 ... 2 -1 0]]\n"
          ],
          "name": "stdout"
        }
      ]
    },
    {
      "cell_type": "code",
      "metadata": {
        "colab": {
          "base_uri": "https://localhost:8080/"
        },
        "id": "kh1olkNe83zf",
        "outputId": "ca1e79ba-bb4b-4383-d152-37fbd646ecf3"
      },
      "source": [
        "print(y_train)"
      ],
      "execution_count": 12,
      "outputs": [
        {
          "output_type": "stream",
          "text": [
            "[0 0 0 ... 1 0 0]\n"
          ],
          "name": "stdout"
        }
      ]
    },
    {
      "cell_type": "code",
      "metadata": {
        "id": "gZB4yzu-84fO",
        "colab": {
          "base_uri": "https://localhost:8080/"
        },
        "outputId": "05a2262a-a0f9-4d66-9f54-cbb71dfae59b"
      },
      "source": [
        "print(y_test)"
      ],
      "execution_count": 13,
      "outputs": [
        {
          "output_type": "stream",
          "text": [
            "[0 0 0 0 0 1 0 0 0 1 0 1 0 0 0 0 0 0 1 0 0 0 0 0 0 0 0 1 0 0 1 0 0 0 0 0 0\n",
            " 0 0 0 1 0 0 0 0 0 1 0 0 0 0 1 1 0 0 0 0 0 0 0 1 1 0 0 1 0 0 0 0 0 0 0 0 0\n",
            " 0 0 0 0 1 0 0 0 0 0 0 0 0 0 1 1 1 0 0 0 0 0 0 0 0 0 0 0 1 0 0 1 0 0 0 1 0\n",
            " 0 1 0 0 0 0 0 0 0 0 1 0 0 0 0 0 0 0 0 0 0 0 0 0 0 0 0 0 0 0 0 0 1 0 0 0 0\n",
            " 0 0 0 0 0 0 0 0 0 0 1 0 0 0 0 0 0 0 0 1 0 0 0 0 0 0 0 0 0 0 0 0 0 0 1 0 0\n",
            " 0 0 0 0 0 0 1 0 0 0 1 0 0 0 0 0 0 0 0 1 1 0 0 0 1 0 0 0 0 0 0 0 0 0 0 0 0\n",
            " 0 0 0 0 0 0 0 0 0 0 0 1 0 0 0 1 0 0 0 0 0 0 0 1 0 0 0 0 0 0 0 0 0 0 0 1 0\n",
            " 0 0 1 0 0 0 0 0 0 0 0 1 0 0 0 0 0 1 0 0 1 0 0 0 0 0 0 1 0 0 0 0 0 0 1 0 0\n",
            " 0 0 0 0 0 0 0 0 0 0 0 0 0 1 0 0 1 0 1 0 0 0 0 0 0 0 0 0 0 0 0 0 0 0 1 0 1\n",
            " 0 0 0 0 0 0 0 0 0 0 0 0 0 0 0 0 0 0 0 0 0 0 0 0 0 0 0 1 0 0 0 0 0 1 0 0 0\n",
            " 0 0 0 0 0 0 0 0 0 0 0 0 0 0 0 0 1 0 0 0 0 0 1 0 0 0 0 0 0 0 0 0 0 0 0 1 0\n",
            " 0 0 0 0 0 0 0 1 0 0 0 0 1 0 0 0 0 0 0 0 0 0 0 1 0 0 0 0 0 0 0 0 1 0 0 0 0\n",
            " 0 0 0 0 0 0 0 0 0 1 0 0 0 0 0 0 0 0 0 0 0 0 0 0 0 0 0 0 0 0 0 0 0 0 0 0 1\n",
            " 0 0 0 0 0 0 0 0 0 0 0 0 0 0 0 0 1 1 0 0 0 0 0 0 0 1 0 0 0 0 0 0 1 0 0 0 0\n",
            " 0 1 0 0 0 0 0 0 0 0 0 0 0 0 0 0 0 0 1 0 0 0 0 0 0 0 0 0 0 0 0 0 0 0 0 0 0\n",
            " 0 0 0 0 1 0 0 0 1 0 0 0 0 0 0 0 1 0 0 0 1 0 1 0 0 1 0 0 0 0 0 0 0 0 1 0 0\n",
            " 0 0 0 0 0 0 0 0 1 1 0 0 0 0 0 0 0 1 0 0 0 0 0 0 0 0 0 0 0 0 0 1 0 0 0 0 0\n",
            " 0 0 0 0 1 0 0 0 0 0 0 1 0 0 0 0 1 0 0 1 1 0 0 0 0 0 0 1 0 0 0 1 0 1 0 0 0\n",
            " 0 0 0 1 0 0 0 0 1 1 0 0 0 0 0 0 0 0 0 0 0 0 0 0 0 0 0 0 1 0 0 0 0 0 0 0 0\n",
            " 1 0 0 0 1 0 0 1 0 0 0 0 1 0 0 0 0 0 0 0 1 0 1 1 0 0 0 0 0 0 0 0 1 0 0 1 0\n",
            " 1 0 0 0 1 0 0 0 0 0 0 0 0 0 0 0 0 0 0 0 1 0 0 0 1 0 1 0 0 0 0 0 0 0 0 0 0\n",
            " 1 0 1 0 0 0 0 0 0 0 1 0 0 0 1 0 0 0 1 0 0 0 1 0 0 0 0 0 0 0 0 0 0 0 0 1 0\n",
            " 0 0 0 0 0 0 1 0 0 0 0 0 0 0 0 0 0 0 0 0 0 0 0 1 0 0 0 0 0 0 0 0 0 0 0 0 0\n",
            " 1 0 0 0 0 0 0 0 0 0 0 0 0 1 0 0 1 0 0 0 0 0 1 0 0 0 1 0 0 0 0 0 0 0 0 0 0\n",
            " 0 0 0 0 0 0 0 0 0 0 0 0 0 1 0 0 0]\n"
          ],
          "name": "stdout"
        }
      ]
    },
    {
      "cell_type": "markdown",
      "metadata": {
        "id": "zJdaC789r-AN"
      },
      "source": [
        "### Feature Scaling"
      ]
    },
    {
      "cell_type": "code",
      "metadata": {
        "id": "4Ec0hMu8sseZ"
      },
      "source": [
        "from sklearn.preprocessing import StandardScaler\n",
        "sc = StandardScaler()\n",
        "x_train = sc.fit_transform(x_train)\n",
        "x_test = sc.transform(x_test)"
      ],
      "execution_count": 14,
      "outputs": []
    },
    {
      "cell_type": "code",
      "metadata": {
        "colab": {
          "base_uri": "https://localhost:8080/"
        },
        "id": "70OAOJdutGuJ",
        "outputId": "1809fcd5-db4f-4dee-aa4b-1e4646c04990"
      },
      "source": [
        "print(x_train)"
      ],
      "execution_count": 15,
      "outputs": [
        {
          "output_type": "stream",
          "text": [
            "[[-0.33558216 -0.51198549 -0.20143371 ... -0.25832264 -0.39768549\n",
            "  -0.31524727]\n",
            " [-0.33558216  1.95318034 -0.20143371 ...  1.01602207 -0.39768549\n",
            "  -0.31524727]\n",
            " [ 2.97989621 -0.51198549 -0.20143371 ... -0.25832264 -0.39768549\n",
            "  -0.31524727]\n",
            " ...\n",
            " [-0.33558216 -0.51198549 -0.20143371 ... -0.25832264 -0.39768549\n",
            "  -0.31524727]\n",
            " [-0.33558216  1.95318034 -0.20143371 ... -0.57690882 -0.39768549\n",
            "  -0.31524727]\n",
            " [-0.33558216 -0.51198549 -0.20143371 ...  0.06026354 -0.39768549\n",
            "  -0.31524727]]\n"
          ],
          "name": "stdout"
        }
      ]
    },
    {
      "cell_type": "code",
      "metadata": {
        "colab": {
          "base_uri": "https://localhost:8080/"
        },
        "id": "ZlC-G8ZCtLWy",
        "outputId": "377f62b5-8f46-4af7-a4ab-a14babbde94f"
      },
      "source": [
        "print(x_test)"
      ],
      "execution_count": 16,
      "outputs": [
        {
          "output_type": "stream",
          "text": [
            "[[ 2.97989621 -0.51198549 -0.20143371 ... -0.25832264 -0.39768549\n",
            "  -0.31524727]\n",
            " [-0.33558216  1.95318034 -0.20143371 ... -0.57690882 -0.39768549\n",
            "  -0.31524727]\n",
            " [-0.33558216  1.95318034 -0.20143371 ... -0.57690882 -0.39768549\n",
            "  -0.31524727]\n",
            " ...\n",
            " [-0.33558216 -0.51198549 -0.20143371 ... -0.25832264 -0.39768549\n",
            "  -0.31524727]\n",
            " [-0.33558216  1.95318034 -0.20143371 ...  1.65319443  3.03596951\n",
            "   5.11301046]\n",
            " [-0.33558216  1.95318034 -0.20143371 ... -0.25832264 -0.39768549\n",
            "  -0.31524727]]\n"
          ],
          "name": "stdout"
        }
      ]
    },
    {
      "cell_type": "markdown",
      "metadata": {
        "id": "qOkF61AbtPmw"
      },
      "source": [
        "## **Training the Kernel SVM model on the training set**"
      ]
    },
    {
      "cell_type": "code",
      "metadata": {
        "colab": {
          "base_uri": "https://localhost:8080/"
        },
        "id": "rJAR6euntOZL",
        "outputId": "499f82e6-499c-4601-96f5-70c0a6d79b1b"
      },
      "source": [
        "from sklearn.svm import SVC\n",
        "classifier = SVC(kernel = 'rbf', random_state = 0)\n",
        "classifier.fit(x_train,y_train)"
      ],
      "execution_count": 17,
      "outputs": [
        {
          "output_type": "execute_result",
          "data": {
            "text/plain": [
              "SVC(C=1.0, break_ties=False, cache_size=200, class_weight=None, coef0=0.0,\n",
              "    decision_function_shape='ovr', degree=3, gamma='scale', kernel='rbf',\n",
              "    max_iter=-1, probability=False, random_state=0, shrinking=True, tol=0.001,\n",
              "    verbose=False)"
            ]
          },
          "metadata": {
            "tags": []
          },
          "execution_count": 17
        }
      ]
    },
    {
      "cell_type": "markdown",
      "metadata": {
        "id": "NR2aRCcTux0Z"
      },
      "source": [
        "## **Predicting the test set result**"
      ]
    },
    {
      "cell_type": "code",
      "metadata": {
        "colab": {
          "base_uri": "https://localhost:8080/"
        },
        "id": "pknMS9ycu6nQ",
        "outputId": "b8ac59fe-bb32-4196-ccc0-6a82c12693fe"
      },
      "source": [
        "y_pred = classifier.predict(x_test)\n",
        "print(np.concatenate((y_pred.reshape(len(y_pred),1), y_test.reshape(len(y_test),1)),1))"
      ],
      "execution_count": 18,
      "outputs": [
        {
          "output_type": "stream",
          "text": [
            "[[0 0]\n",
            " [0 0]\n",
            " [0 0]\n",
            " ...\n",
            " [0 0]\n",
            " [0 0]\n",
            " [0 0]]\n"
          ],
          "name": "stdout"
        }
      ]
    },
    {
      "cell_type": "markdown",
      "metadata": {
        "id": "7FcGkfUAvI0o"
      },
      "source": [
        "## **Making the Confusion Matrix**"
      ]
    },
    {
      "cell_type": "code",
      "metadata": {
        "colab": {
          "base_uri": "https://localhost:8080/"
        },
        "id": "yNIjPE-LvPrw",
        "outputId": "9a6aa4d8-01de-42a2-8314-c1e610f53c98"
      },
      "source": [
        "from sklearn.metrics import confusion_matrix, accuracy_score\n",
        "cm = confusion_matrix(y_test, y_pred)\n",
        "print(cm)\n",
        "accuracy_score(y_test, y_pred)"
      ],
      "execution_count": 19,
      "outputs": [
        {
          "output_type": "stream",
          "text": [
            "[[775  15]\n",
            " [ 91  24]]\n"
          ],
          "name": "stdout"
        },
        {
          "output_type": "execute_result",
          "data": {
            "text/plain": [
              "0.8828729281767956"
            ]
          },
          "metadata": {
            "tags": []
          },
          "execution_count": 19
        }
      ]
    }
  ]
}